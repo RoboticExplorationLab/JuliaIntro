{
 "cells": [
  {
   "cell_type": "markdown",
   "metadata": {
    "slideshow": {
     "slide_type": "slide"
    }
   },
   "source": [
    "# Levelling up your Julia Skills\n",
    "by Brian Jackson"
   ]
  },
  {
   "cell_type": "markdown",
   "metadata": {
    "slideshow": {
     "slide_type": "slide"
    }
   },
   "source": [
    "## Environment Files"
   ]
  },
  {
   "cell_type": "markdown",
   "metadata": {
    "slideshow": {
     "slide_type": "subslide"
    }
   },
   "source": [
    "`Project.toml` file\n",
    "- records all the project dependencies\n",
    "- easily add dependencies using the package manager by activating the project file via `] activate <path/to/project>`\n",
    "- Julia will first search in the local project dependencies, and then resort to globally install projects (i.e. you can still use projects installed in your default global environment)"
   ]
  },
  {
   "cell_type": "markdown",
   "metadata": {
    "slideshow": {
     "slide_type": "subslide"
    }
   },
   "source": [
    "`Manifest.toml` file\n",
    "- records the specific versions of all projects you are using (including locally-referenced projects)\n",
    "- essentially captures a \"snapshot\" of your work environement\n",
    "- automatically generated/updated by `] resolve`\n",
    "- do NOT edit manually\n",
    "- should NOT be committed to packages\n",
    "- can be commited for examples and testing environements"
   ]
  },
  {
   "cell_type": "markdown",
   "metadata": {
    "slideshow": {
     "slide_type": "subslide"
    }
   },
   "source": [
    "Some suggestions\n",
    "- To avoid adding lots of dependencies to your project, set up `Project.toml` and `Manifest.toml` files in an `examples/` sub-directory that record dependencies needed for plotting, analysis, setting up test problems, etc.\n",
    "- If you need to \"ship\" some code to someone else and want to make sure it works, commit the `Manifest.toml` file. The recipient then clones the repo, activates the repo, and then downloads all dependencies using `] instantiate`\n",
    "- Read the docs https://julialang.github.io/Pkg.jl/v1/\n",
    "- Check out this talk from JuliaCon 2019 https://www.youtube.com/watch?v=q-LV4zoxc-E"
   ]
  },
  {
   "cell_type": "markdown",
   "metadata": {
    "slideshow": {
     "slide_type": "slide"
    }
   },
   "source": [
    "## Constructors"
   ]
  },
  {
   "cell_type": "markdown",
   "metadata": {
    "slideshow": {
     "slide_type": "slide"
    }
   },
   "source": [
    "### Inner Constructors\n",
    "* must call `new`\n",
    "* use to establish representational invariants\n",
    "* `new` will automatically call `convert` on the arguments"
   ]
  },
  {
   "cell_type": "code",
   "execution_count": 65,
   "metadata": {
    "slideshow": {
     "slide_type": "slide"
    }
   },
   "outputs": [],
   "source": [
    "using StaticArrays\n",
    "using BenchmarkTools\n",
    "\n",
    "struct UnitQuaternion{T}\n",
    "    w::T\n",
    "    x::T\n",
    "    y::T\n",
    "    z::T\n",
    "\n",
    "    @inline function UnitQuaternion{T}(w, x, y, z, normalize::Bool = true) where T\n",
    "        if normalize\n",
    "            inorm = inv(sqrt(w*w + x*x + y*y + z*z))\n",
    "            new{T}(w*inorm, x*inorm, y*inorm, z*inorm)\n",
    "        else\n",
    "            new{T}(w, x, y, z)\n",
    "        end\n",
    "    end\n",
    "\n",
    "    UnitQuaternion{T}(q::UnitQuaternion) where T = new{T}(q.w, q.x, q.y, q.z)\n",
    "end"
   ]
  },
  {
   "cell_type": "code",
   "execution_count": 66,
   "metadata": {
    "slideshow": {
     "slide_type": "slide"
    }
   },
   "outputs": [
    {
     "name": "stdout",
     "output_type": "stream",
     "text": [
      "UnitQuaternion{Float64}\n",
      "UnitQuaternion{Float64}\n",
      "UnitQuaternion{Int64}\n",
      "UnitQuaternion{Float32}\n",
      "UnitQuaternion{Float32}\n",
      "UnitQuaternion{Float64}\n"
     ]
    }
   ],
   "source": [
    "# Element-wise constructor\n",
    "q1 = UnitQuaternion{Float64}(1.0, 2.0, 3.0, 4.0)        # All Float64, no conversion needed\n",
    "println(typeof(q1))\n",
    "println(typeof(UnitQuaternion{Float64}(1, 0, 0, 0)))    # convert inputs to Float64\n",
    "println(typeof(UnitQuaternion{Int}(1, 0, 0, 0)))        # All Ints, no conversion needed\n",
    "# println(typeof(UnitQuaternion{Int}(1.0, 0, 0, 0)))    # error, since a Float64 cannot be converted to Int64\n",
    "println(typeof(UnitQuaternion{Float32}(1.0, 0, 0, 0)))  # convert all inputs to Float32\n",
    "\n",
    "# Copy constructor\n",
    "println(typeof(UnitQuaternion{Float32}(q1)))             # convert Float64 quaternion to Float32\n",
    "println(typeof(UnitQuaternion{Float64}(q1)))             # no conversion needed"
   ]
  },
  {
   "cell_type": "code",
   "execution_count": 40,
   "metadata": {
    "slideshow": {
     "slide_type": "slide"
    }
   },
   "outputs": [
    {
     "data": {
      "text/plain": [
       "UnitQuaternion{Float64}(1.0, 0.0, 0.0, 0.0)"
      ]
     },
     "execution_count": 40,
     "metadata": {},
     "output_type": "execute_result"
    }
   ],
   "source": [
    "# This method isn't defined yet\n",
    "UnitQuaternion(1.0, 0.0, 0.0, 0.0)"
   ]
  },
  {
   "cell_type": "code",
   "execution_count": 67,
   "metadata": {
    "slideshow": {
     "slide_type": "slide"
    }
   },
   "outputs": [
    {
     "name": "stdout",
     "output_type": "stream",
     "text": [
      "UnitQuaternion{Float64}\n",
      "UnitQuaternion{Float64}\n",
      "UnitQuaternion{Float32}\n"
     ]
    }
   ],
   "source": [
    "# Use promote to handle different input types\n",
    "function UnitQuaternion(w,x,y,z, normalize::Bool = true)\n",
    "    types = promote(w,x,y,z)\n",
    "    UnitQuaternion{eltype(types)}(w,x,y,z, normalize)\n",
    "end\n",
    "println(typeof(UnitQuaternion(1.0, 0.0, 0.0, 0.0)))     # detects Float64\n",
    "println(typeof(UnitQuaternion(1.0, 0, 0, 0)))           # promotes to Float64\n",
    "println(typeof(UnitQuaternion(1.0f0, 0, 0, 0)))         # promotes to Float32"
   ]
  },
  {
   "cell_type": "code",
   "execution_count": 8,
   "metadata": {
    "slideshow": {
     "slide_type": "slide"
    }
   },
   "outputs": [
    {
     "name": "stdout",
     "output_type": "stream",
     "text": [
      "UnitQuaternion{Float64}(1.0, 0.0, 0.0, 0.0)\n",
      "UnitQuaternion{Float32}(1.0f0, 0.0f0, 0.0f0, 0.0f0)\n"
     ]
    }
   ],
   "source": [
    "# Pass in vectors\n",
    "@inline function (::Type{Q})(q::AbstractVector, normalize::Bool = true) where Q <: UnitQuaternion\n",
    "    Q(q[1], q[2], q[3], q[4], normalize)\n",
    "end\n",
    "println(UnitQuaternion([1.0, 0, 0, 0]))           # passes through promotion constructor\n",
    "println(UnitQuaternion{Float32}([1.0, 0, 0, 0]))  # call inner constructor (uses internal call to convert)"
   ]
  },
  {
   "cell_type": "code",
   "execution_count": 9,
   "metadata": {
    "slideshow": {
     "slide_type": "slide"
    }
   },
   "outputs": [
    {
     "data": {
      "text/plain": [
       "UnitQuaternion"
      ]
     },
     "execution_count": 9,
     "metadata": {},
     "output_type": "execute_result"
    }
   ],
   "source": [
    "# Pass-through copy constructor 2\n",
    "UnitQuaternion(q::UnitQuaternion) = q"
   ]
  },
  {
   "cell_type": "markdown",
   "metadata": {
    "slideshow": {
     "slide_type": "slide"
    }
   },
   "source": [
    "## Using Static Arrays"
   ]
  },
  {
   "cell_type": "markdown",
   "metadata": {
    "slideshow": {
     "slide_type": "subslide"
    }
   },
   "source": [
    "`StaticArray{S,T,N} <: AbstractArray{T,N}`\n",
    "- abstract supertype that is used to define common methods\n",
    "- simply an abstract array with a size tuple `S`\n"
   ]
  },
  {
   "cell_type": "markdown",
   "metadata": {
    "slideshow": {
     "slide_type": "subslide"
    }
   },
   "source": [
    "`SArray{S,T,N,L}`\n",
    "- static matrix that lives on the stack, rather than the heap (`isbits(a::SArray) = true`)\n",
    "- underlying storage is a tuple of length `L`\n",
    "- very efficient to create small-sized arrays\n",
    "- don't use for dimensions above 20x20\n",
    "- very slow initialization and compilation for sizes above 20x20"
   ]
  },
  {
   "cell_type": "markdown",
   "metadata": {
    "slideshow": {
     "slide_type": "subslide"
    }
   },
   "source": [
    "`MArray{S,T,N,L}`\n",
    "- similar to `SArray` but has mutuable elements so lives on the heap\n"
   ]
  },
  {
   "cell_type": "markdown",
   "metadata": {
    "slideshow": {
     "slide_type": "subslide"
    }
   },
   "source": [
    "`SizedArray{S,T,N,M}`\n",
    "- simply a normal Julia array of dimension `M` wrapped with a static size\n",
    "- fast to initialize using `StaticMatrix{n,m}(zeros(n,m))` for any size\n",
    "- for small matrix multiplication (less than 14x14x14) uses loop unrolling\n",
    "- for large arrays, uses BLAS\n",
    "- best of both, but for 0 allocations you have to use in-place methods (e.g. `mul!`)\n",
    "- can be converted very quickly to `SArray` at run-time (as long as the sizes are small enough)"
   ]
  },
  {
   "cell_type": "markdown",
   "metadata": {
    "slideshow": {
     "slide_type": "subslide"
    }
   },
   "source": [
    "### Some Practical Tips\n",
    "- When pre-allocating memory that could potentially have dimensions bigger than 20x20, used `SizedArray`\n",
    "- You can get extra speed for small problems by converting them to `SMatrix` temporarily (and easier-to-read math)\n",
    "- Use `mul!(C,A,B)` and `mul!(C,A,B,alpha,beta)` for matrix multiplication\n",
    "- Never EVER store static arrays of different sizes in the same vector\n",
    "- If your arrays aren't too large, expressions like the following don't allocate: `C .= A*B .+ D`"
   ]
  },
  {
   "cell_type": "code",
   "execution_count": 68,
   "metadata": {
    "slideshow": {
     "slide_type": "subslide"
    }
   },
   "outputs": [
    {
     "name": "stdout",
     "output_type": "stream",
     "text": [
      "  31.260 ns (0 allocations: 0 bytes)\n"
     ]
    },
    {
     "data": {
      "text/plain": [
       "4×5 MArray{Tuple{4,5},Float64,2,20} with indices SOneTo(4)×SOneTo(5):\n",
       " 1.25518  1.22202  1.83152  0.706902  1.95337\n",
       " 1.82795  1.60956  1.71565  1.69904   1.78458\n",
       " 2.12251  1.52831  2.53513  1.40619   1.7827\n",
       " 2.87063  1.96925  2.55051  1.93487   2.61875"
      ]
     },
     "execution_count": 68,
     "metadata": {},
     "output_type": "execute_result"
    }
   ],
   "source": [
    "C = @MMatrix zeros(4,5)\n",
    "A = @MMatrix rand(4,6)\n",
    "B = @MMatrix rand(6,5)\n",
    "D = @MMatrix rand(4,5)\n",
    "@btime $C .= $A*$B .+ $D"
   ]
  },
  {
   "cell_type": "markdown",
   "metadata": {
    "slideshow": {
     "slide_type": "slide"
    }
   },
   "source": [
    "## Function Barriers\n",
    "An efficient way to eliminate allocations for general code"
   ]
  },
  {
   "cell_type": "markdown",
   "metadata": {
    "slideshow": {
     "slide_type": "slide"
    }
   },
   "source": [
    "### Sample problem:\n",
    "Find the maximum constraint violation. We have 3 constraints of lengths 4, 6, and 8. Each constraint is applied to 10 time steps."
   ]
  },
  {
   "cell_type": "code",
   "execution_count": 69,
   "metadata": {
    "slideshow": {
     "slide_type": "fragment"
    }
   },
   "outputs": [
    {
     "data": {
      "text/plain": [
       "Array{Array{T,1} where T,1}"
      ]
     },
     "execution_count": 69,
     "metadata": {},
     "output_type": "execute_result"
    }
   ],
   "source": [
    "data = [[@SVector rand(n) for k = 1:10] for n in (4,6,8)];\n",
    "typeof(data)  # potential type instability"
   ]
  },
  {
   "cell_type": "code",
   "execution_count": 70,
   "metadata": {
    "slideshow": {
     "slide_type": "slide"
    }
   },
   "outputs": [
    {
     "name": "stdout",
     "output_type": "stream",
     "text": [
      "  1.560 μs (90 allocations: 2.81 KiB)\n"
     ]
    },
    {
     "data": {
      "text/plain": [
       "0.9981549078964251"
      ]
     },
     "execution_count": 70,
     "metadata": {},
     "output_type": "execute_result"
    }
   ],
   "source": [
    "function findmax(data)\n",
    "    mymax = -Inf\n",
    "    for (i,vec) in enumerate(data)\n",
    "        for x in vec\n",
    "            mymax = max(maximum(x), mymax)\n",
    "        end\n",
    "    end\n",
    "    return mymax\n",
    "end\n",
    "@btime findmax($data)"
   ]
  },
  {
   "cell_type": "code",
   "execution_count": 71,
   "metadata": {
    "slideshow": {
     "slide_type": "slide"
    }
   },
   "outputs": [
    {
     "name": "stdout",
     "output_type": "stream",
     "text": [
      "Variables\n",
      "  #self#\u001b[36m::Core.Compiler.Const(findmax, false)\u001b[39m\n",
      "  data\u001b[36m::Array{Array{T,1} where T,1}\u001b[39m\n",
      "  mymax\u001b[91m\u001b[1m::Any\u001b[22m\u001b[39m\n",
      "  @_4\u001b[33m\u001b[1m::Union{Nothing, Tuple{Tuple{Int64,Array{_A,1} where _A},Tuple{Int64,Int64}}}\u001b[22m\u001b[39m\n",
      "  i\u001b[36m::Int64\u001b[39m\n",
      "  vec\u001b[91m\u001b[1m::Array{_A,1} where _A\u001b[22m\u001b[39m\n",
      "  @_7\u001b[36m::Int64\u001b[39m\n",
      "  @_8\u001b[33m\u001b[1m::Union{Nothing, Tuple{Any,Int64}}\u001b[22m\u001b[39m\n",
      "  x\u001b[91m\u001b[1m::Any\u001b[22m\u001b[39m\n",
      "\n",
      "Body\u001b[91m\u001b[1m::Any\u001b[22m\u001b[39m\n",
      "\u001b[90m1 ─\u001b[39m       (mymax = -Main.Inf)\n",
      "\u001b[90m│  \u001b[39m %2  = Main.enumerate(data)\u001b[36m::Base.Iterators.Enumerate{Array{Array{T,1} where T,1}}\u001b[39m\n",
      "\u001b[90m│  \u001b[39m       (@_4 = Base.iterate(%2))\n",
      "\u001b[90m│  \u001b[39m %4  = (@_4 === nothing)\u001b[36m::Bool\u001b[39m\n",
      "\u001b[90m│  \u001b[39m %5  = Base.not_int(%4)\u001b[36m::Bool\u001b[39m\n",
      "\u001b[90m└──\u001b[39m       goto #7 if not %5\n",
      "\u001b[90m2 ┄\u001b[39m %7  = @_4::Tuple{Tuple{Int64,Array{_A,1} where _A},Tuple{Int64,Int64}}\u001b[91m\u001b[1m::Tuple{Tuple{Int64,Array{_A,1} where _A},Tuple{Int64,Int64}}\u001b[22m\u001b[39m\n",
      "\u001b[90m│  \u001b[39m %8  = Core.getfield(%7, 1)\u001b[91m\u001b[1m::Tuple{Int64,Array{_A,1} where _A}\u001b[22m\u001b[39m\n",
      "\u001b[90m│  \u001b[39m %9  = Base.indexed_iterate(%8, 1)\u001b[36m::Core.Compiler.PartialStruct(Tuple{Int64,Int64}, Any[Int64, Core.Compiler.Const(2, false)])\u001b[39m\n",
      "\u001b[90m│  \u001b[39m       (i = Core.getfield(%9, 1))\n",
      "\u001b[90m│  \u001b[39m       (@_7 = Core.getfield(%9, 2))\n",
      "\u001b[90m│  \u001b[39m %12 = Base.indexed_iterate(%8, 2, @_7::Core.Compiler.Const(2, false))\u001b[36m::Core.Compiler.PartialStruct(Tuple{Array{_A,1} where _A,Int64}, Any[Array{_A,1} where _A, Core.Compiler.Const(3, false)])\u001b[39m\n",
      "\u001b[90m│  \u001b[39m       (vec = Core.getfield(%12, 1))\n",
      "\u001b[90m│  \u001b[39m %14 = Core.getfield(%7, 2)\u001b[36m::Tuple{Int64,Int64}\u001b[39m\n",
      "\u001b[90m│  \u001b[39m %15 = vec\u001b[91m\u001b[1m::Array{_A,1} where _A\u001b[22m\u001b[39m\n",
      "\u001b[90m│  \u001b[39m       (@_8 = Base.iterate(%15))\n",
      "\u001b[90m│  \u001b[39m %17 = (@_8 === nothing)\u001b[36m::Bool\u001b[39m\n",
      "\u001b[90m│  \u001b[39m %18 = Base.not_int(%17)\u001b[36m::Bool\u001b[39m\n",
      "\u001b[90m└──\u001b[39m       goto #5 if not %18\n",
      "\u001b[90m3 ┄\u001b[39m %20 = @_8::Tuple{Any,Int64}\u001b[91m\u001b[1m::Tuple{Any,Int64}\u001b[22m\u001b[39m\n",
      "\u001b[90m│  \u001b[39m       (x = Core.getfield(%20, 1))\n",
      "\u001b[90m│  \u001b[39m %22 = Core.getfield(%20, 2)\u001b[36m::Int64\u001b[39m\n",
      "\u001b[90m│  \u001b[39m %23 = Main.maximum(x)\u001b[91m\u001b[1m::Any\u001b[22m\u001b[39m\n",
      "\u001b[90m│  \u001b[39m       (mymax = Main.max(%23, mymax))\n",
      "\u001b[90m│  \u001b[39m       (@_8 = Base.iterate(%15, %22))\n",
      "\u001b[90m│  \u001b[39m %26 = (@_8 === nothing)\u001b[36m::Bool\u001b[39m\n",
      "\u001b[90m│  \u001b[39m %27 = Base.not_int(%26)\u001b[36m::Bool\u001b[39m\n",
      "\u001b[90m└──\u001b[39m       goto #5 if not %27\n",
      "\u001b[90m4 ─\u001b[39m       goto #3\n",
      "\u001b[90m5 ┄\u001b[39m       (@_4 = Base.iterate(%2, %14))\n",
      "\u001b[90m│  \u001b[39m %31 = (@_4 === nothing)\u001b[36m::Bool\u001b[39m\n",
      "\u001b[90m│  \u001b[39m %32 = Base.not_int(%31)\u001b[36m::Bool\u001b[39m\n",
      "\u001b[90m└──\u001b[39m       goto #7 if not %32\n",
      "\u001b[90m6 ─\u001b[39m       goto #2\n",
      "\u001b[90m7 ┄\u001b[39m       return mymax\n"
     ]
    }
   ],
   "source": [
    "@code_warntype findmax(data)"
   ]
  },
  {
   "cell_type": "code",
   "execution_count": 72,
   "metadata": {
    "slideshow": {
     "slide_type": "slide"
    }
   },
   "outputs": [
    {
     "name": "stdout",
     "output_type": "stream",
     "text": [
      "  283.219 ns (6 allocations: 96 bytes)\n"
     ]
    },
    {
     "data": {
      "text/plain": [
       "0.9981549078964251"
      ]
     },
     "execution_count": 72,
     "metadata": {},
     "output_type": "execute_result"
    }
   ],
   "source": [
    "function findmax(data)\n",
    "    mymax = -Inf\n",
    "    for (i,vec) in enumerate(data)\n",
    "        # function barrier: pass the type instability directly to a function\n",
    "        tmp = findmax(vec)\n",
    "        mymax = max(tmp, mymax)\n",
    "    end\n",
    "    return mymax\n",
    "end\n",
    "\n",
    "function findmax(vec::Vector{<:StaticVector{<:Any,T}}) where T\n",
    "    mymax = typemin(T)\n",
    "    for x in vec\n",
    "        mymax = max(mymax,maximum(x))\n",
    "    end\n",
    "    return mymax\n",
    "end\n",
    "@btime findmax($data)"
   ]
  },
  {
   "cell_type": "code",
   "execution_count": 73,
   "metadata": {
    "slideshow": {
     "slide_type": "slide"
    }
   },
   "outputs": [
    {
     "name": "stdout",
     "output_type": "stream",
     "text": [
      "  257.540 ns (0 allocations: 0 bytes)\n"
     ]
    },
    {
     "data": {
      "text/plain": [
       "0.9981549078964251"
      ]
     },
     "execution_count": 73,
     "metadata": {},
     "output_type": "execute_result"
    }
   ],
   "source": [
    "function findmax!(maxes, data)\n",
    "    mymax = -Inf\n",
    "    for (i,vec) in enumerate(data)\n",
    "        tmp = maxes[i]\n",
    "        findmax!(tmp, vec)\n",
    "        mymax = max(mymax,maximum(tmp))\n",
    "    end\n",
    "    return mymax\n",
    "end\n",
    "function findmax!(maxes, vec::Vector{<:StaticVector{<:Any,T}}) where T\n",
    "    for (i,x) in enumerate(vec)\n",
    "        maxes[i] = maximum(x)\n",
    "    end\n",
    "end\n",
    "maxes = [zeros(10) for N in (4,6,8)]\n",
    "@btime findmax!($maxes, $data)"
   ]
  },
  {
   "cell_type": "markdown",
   "metadata": {
    "slideshow": {
     "slide_type": "slide"
    }
   },
   "source": [
    "## Metaprogramming"
   ]
  },
  {
   "cell_type": "markdown",
   "metadata": {
    "slideshow": {
     "slide_type": "subslide"
    }
   },
   "source": [
    "What is metaprogramming?\n",
    "- Using code to generate more code"
   ]
  },
  {
   "cell_type": "markdown",
   "metadata": {
    "slideshow": {
     "slide_type": "subslide"
    }
   },
   "source": [
    "Why use metaprogamming?\n",
    "- Move computation from runtime to compile time => faster runtime code!\n",
    "- Avoid unnecessary repetition by writing general functions"
   ]
  },
  {
   "cell_type": "markdown",
   "metadata": {
    "slideshow": {
     "slide_type": "subslide"
    }
   },
   "source": [
    "Why to not use metaprogramming?\n",
    "- If you abuse it, it can have very poor performance, make your code completely unintelligble, and extremely hard to debug"
   ]
  },
  {
   "cell_type": "markdown",
   "metadata": {
    "slideshow": {
     "slide_type": "subslide"
    }
   },
   "source": [
    "When to use metaprogramming?\n",
    "- As a last resort\n",
    "- When you have lots of information from your types\n",
    "- Elimination of potential type instability (e.g. your output is a `StaticArray`)"
   ]
  },
  {
   "cell_type": "markdown",
   "metadata": {
    "slideshow": {
     "slide_type": "slide"
    }
   },
   "source": [
    "### Example: Matrix-Vector multiplication with Loop Unrolling"
   ]
  },
  {
   "cell_type": "code",
   "execution_count": 74,
   "metadata": {
    "slideshow": {
     "slide_type": "slide"
    }
   },
   "outputs": [],
   "source": [
    "# Set up\n",
    "sa = Size(3,4)  # size of A\n",
    "sb = Size(4)    # Size of b\n",
    "\n",
    "A = rand(sa[1], sa[2]);\n",
    "b = rand(sb[1]);"
   ]
  },
  {
   "cell_type": "code",
   "execution_count": 75,
   "metadata": {
    "slideshow": {
     "slide_type": "slide"
    }
   },
   "outputs": [
    {
     "data": {
      "text/plain": [
       ":(A[2, 1])"
      ]
     },
     "execution_count": 75,
     "metadata": {},
     "output_type": "execute_result"
    }
   ],
   "source": [
    "# Step 1: Creating expressions\n",
    "i,j = 2,1\n",
    ":(A[$i,$j])"
   ]
  },
  {
   "cell_type": "code",
   "execution_count": 77,
   "metadata": {
    "slideshow": {
     "slide_type": "slide"
    }
   },
   "outputs": [
    {
     "data": {
      "text/plain": [
       "4-element Array{Expr,1}:\n",
       " :(A[1, 1] * b[1])\n",
       " :(A[1, 2] * b[2])\n",
       " :(A[1, 3] * b[3])\n",
       " :(A[1, 4] * b[4])"
      ]
     },
     "execution_count": 77,
     "metadata": {},
     "output_type": "execute_result"
    }
   ],
   "source": [
    "# Create expressions for multiplying first row of A with b\n",
    "firstrow = [:(A[1,$j] * b[$j]) for j = 1:sb[1]]"
   ]
  },
  {
   "cell_type": "code",
   "execution_count": 79,
   "metadata": {
    "slideshow": {
     "slide_type": "slide"
    }
   },
   "outputs": [
    {
     "data": {
      "text/plain": [
       "4-element Array{Expr,1}:\n",
       " :(A[1] * b[1])\n",
       " :(A[4] * b[2])\n",
       " :(A[7] * b[3])\n",
       " :(A[10] * b[4])"
      ]
     },
     "execution_count": 79,
     "metadata": {},
     "output_type": "execute_result"
    }
   ],
   "source": [
    "# We can use linear indices instead of cartesian for even more speed\n",
    "firstrow = [:(A[$(LinearIndices(sa)[1,j])] * b[$j]) for j = 1:sb[1]]"
   ]
  },
  {
   "cell_type": "code",
   "execution_count": 81,
   "metadata": {
    "slideshow": {
     "slide_type": "slide"
    }
   },
   "outputs": [
    {
     "data": {
      "text/plain": [
       ":(((A[1] * b[1] + A[4] * b[2]) + A[7] * b[3]) + A[10] * b[4])"
      ]
     },
     "execution_count": 81,
     "metadata": {},
     "output_type": "execute_result"
    }
   ],
   "source": [
    "# Reduce the expressions using addition\n",
    "reduce((ex1,ex2) -> :($ex1 + $ex2), firstrow)"
   ]
  },
  {
   "cell_type": "code",
   "execution_count": 83,
   "metadata": {
    "slideshow": {
     "slide_type": "slide"
    }
   },
   "outputs": [
    {
     "data": {
      "text/plain": [
       "3-element Array{Expr,1}:\n",
       " :(((A[1] * b[1] + A[4] * b[2]) + A[7] * b[3]) + A[10] * b[4])\n",
       " :(((A[2] * b[1] + A[5] * b[2]) + A[8] * b[3]) + A[11] * b[4])\n",
       " :(((A[3] * b[1] + A[6] * b[2]) + A[9] * b[3]) + A[12] * b[4])"
      ]
     },
     "execution_count": 83,
     "metadata": {},
     "output_type": "execute_result"
    }
   ],
   "source": [
    "# Do this for each row\n",
    "exprs = [reduce((ex1,ex2) -> :($ex1 + $ex2), [:(A[$(LinearIndices(sa)[i,j])] * b[$j]) for j = 1:sb[1]]) for i = 1:sa[1]]"
   ]
  },
  {
   "cell_type": "code",
   "execution_count": 84,
   "metadata": {
    "slideshow": {
     "slide_type": "slide"
    }
   },
   "outputs": [
    {
     "data": {
      "text/plain": [
       "quote\n",
       "    #= In[84]:3 =#\n",
       "    SVector{3}(((A[1] * b[1] + A[4] * b[2]) + A[7] * b[3]) + A[10] * b[4], ((A[2] * b[1] + A[5] * b[2]) + A[8] * b[3]) + A[11] * b[4], ((A[3] * b[1] + A[6] * b[2]) + A[9] * b[3]) + A[12] * b[4])\n",
       "end"
      ]
     },
     "execution_count": 84,
     "metadata": {},
     "output_type": "execute_result"
    }
   ],
   "source": [
    "# Create the output vector\n",
    "output = quote \n",
    "    SVector{$(sa[1])}($(exprs...))\n",
    "end"
   ]
  },
  {
   "cell_type": "code",
   "execution_count": 86,
   "metadata": {
    "slideshow": {
     "slide_type": "slide"
    }
   },
   "outputs": [
    {
     "data": {
      "text/plain": [
       "3-element SArray{Tuple{3},Float64,1,3} with indices SOneTo(3):\n",
       " 0.4812650430532941\n",
       " 0.6383943890345716\n",
       " 0.5104157415147225"
      ]
     },
     "execution_count": 86,
     "metadata": {},
     "output_type": "execute_result"
    }
   ],
   "source": [
    "eval(output)  # never do this at run-time!"
   ]
  },
  {
   "cell_type": "code",
   "execution_count": 88,
   "metadata": {
    "slideshow": {
     "slide_type": "slide"
    }
   },
   "outputs": [
    {
     "data": {
      "text/plain": [
       "quote\n",
       "    #= In[88]:8 =#\n",
       "    SVector{3}(((A[1] * b[1] + A[4] * b[2]) + A[7] * b[3]) + A[10] * b[4], ((A[2] * b[1] + A[5] * b[2]) + A[8] * b[3]) + A[11] * b[4], ((A[3] * b[1] + A[6] * b[2]) + A[9] * b[3]) + A[12] * b[4])\n",
       "end"
      ]
     },
     "execution_count": 88,
     "metadata": {},
     "output_type": "execute_result"
    }
   ],
   "source": [
    "# Now create a function that returns the expression we created above\n",
    "function matvec_mult(::Size{sa}, ::Size{sb}, A, b) where {sa, sb}\n",
    "    # Everything here must be a function of ONLY THE TYPES\n",
    "    exprs = [reduce((ex1,ex2) -> :($ex1 + $ex2), [:(A[$(LinearIndices(sa)[i,j])] * b[$j]) for j = 1:sb[1]]) for i = 1:sa[1]]\n",
    "    \n",
    "    # Return an expression\n",
    "    return quote\n",
    "        SVector{$(sa[1])}($(exprs...))\n",
    "    end\n",
    "end\n",
    "matvec_mult(sa, sb, A, b)"
   ]
  },
  {
   "cell_type": "code",
   "execution_count": 90,
   "metadata": {
    "slideshow": {
     "slide_type": "slide"
    }
   },
   "outputs": [
    {
     "data": {
      "text/plain": [
       "3-element SArray{Tuple{3},Float64,1,3} with indices SOneTo(3):\n",
       " 0.4812650430532941\n",
       " 0.6383943890345716\n",
       " 0.5104157415147225"
      ]
     },
     "execution_count": 90,
     "metadata": {},
     "output_type": "execute_result"
    }
   ],
   "source": [
    "# Now that we're sure the expression is what we want, stick @generated at the front\n",
    "@generated function matvec_mult(::Size{sa}, ::Size{sb}, A, b) where {sa, sb}\n",
    "    # Everything here must be a function of ONLY THE TYPES\n",
    "    exprs = [reduce((ex1,ex2) -> :($ex1 + $ex2), [:(A[$i,$j] * b[$j]) for j = 1:sb[1]]) for i = 1:sa[1]]\n",
    "    \n",
    "    # Return an expression\n",
    "    return quote\n",
    "        SVector{$(sa[1])}($(exprs...))\n",
    "    end\n",
    "end\n",
    "matvec_mult(sa, sb, A, b)"
   ]
  },
  {
   "cell_type": "code",
   "execution_count": 91,
   "metadata": {
    "slideshow": {
     "slide_type": "slide"
    }
   },
   "outputs": [
    {
     "name": "stdout",
     "output_type": "stream",
     "text": [
      "  7.893 ns (0 allocations: 0 bytes)\n",
      "  51.205 ns (1 allocation: 112 bytes)\n"
     ]
    }
   ],
   "source": [
    "@btime matvec_mult($sa, $sb, $A, $b)\n",
    "@btime $A*$b;"
   ]
  }
 ],
 "metadata": {
  "celltoolbar": "Slideshow",
  "kernelspec": {
   "display_name": "Julia 1.4.0",
   "language": "julia",
   "name": "julia-1.4"
  },
  "language_info": {
   "file_extension": ".jl",
   "mimetype": "application/julia",
   "name": "julia",
   "version": "1.4.0"
  }
 },
 "nbformat": 4,
 "nbformat_minor": 4
}
