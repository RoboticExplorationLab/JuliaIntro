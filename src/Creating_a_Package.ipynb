{
 "cells": [
  {
   "cell_type": "markdown",
   "metadata": {},
   "source": [
    "# Introduction\n",
    "This tutorial covers how to get started with your own Julia package. It assumes some familiarity with the language and that you have a working version of Julia installed on your computer. We also highly recommend installing the [Juno IDE](http://junolab.org/).\n",
    "\n",
    "This tutorial is built for Julia v1.0.0+."
   ]
  },
  {
   "cell_type": "markdown",
   "metadata": {},
   "source": [
    "# Getting Started\n",
    "\n",
    "## Getting Packages\n",
    "Julia v1.0 has a brand-new package manager with a lot of \n",
    "functionality. We'll cover some of the basics here.\n",
    "\n",
    "### Using the Package Manager\n",
    "To use the package manager from the REPL (recommended) press the `]` key.\n",
    "\n",
    "### File Locations\n",
    "If you installed Julia with default settings, it should place all files beneath your home directory:\n",
    "\n",
    "`/home/username/.julia`\n",
    "\n",
    "A couple of important sub-directories:\n",
    "* `dev` - contains git repositories of the packages being developed. It is okay to edit files in this directory\n",
    "* `packages` - contains git repositories of the packages downloaded via the package manager. You should not edit these files.\n",
    "* `compiled` - contains compiled files (`*.ji`) for pre-compiled packages.\n",
    "\n",
    "\n",
    "### Adding a registered package\n",
    "To add a registered package use the `add` command within the Package Manager. This will install the package on your computer and add it to your active project. For example, to add the ForwardDiff package simple enter\n",
    "\n",
    "`(v1.0) pkg> add ForwardDiff`\n",
    "\n",
    "\n",
    "### Using a Package\n",
    "Once installed, a package is brought into the the workspace using the `using` command:\n"
   ]
  },
  {
   "cell_type": "code",
   "execution_count": 10,
   "metadata": {},
   "outputs": [],
   "source": [
    "using ForwardDiff"
   ]
  },
  {
   "cell_type": "markdown",
   "metadata": {},
   "source": [
    "## Creating your Own Package\n",
    "1. Go to GitHub.com and create a new repository. By convention it should end with `*.jl` (i.e. `NewPackage.jl`).\n",
    "![Add_GitHub_Repo](../img/AddRepo.png)\n",
    "\n",
    "2. Add new repository to developed Julia packages using the Package Manager\n",
    "\n",
    "```\n",
    "(v1.0) pkg> dev https://github.com/username/NewPackage.jl.git\n",
    "```\n",
    "\n",
    "3. Navigate to repository. \n",
    "\n",
    "```shell\n",
    "cd /home/user/.julia/dev/NewPackage\n",
    "```\n",
    "\n",
    "4. Create `src` sub-directory. This holds the core project code.\n",
    "\n",
    "```shell\n",
    "mkdir src\n",
    "```\n",
    "\n",
    "5. Create the main project file within your source folder using your favorite editor. This needs to have the same name as the Package, e.g. `src\\NewPackage.jl`. To do this from Juno, select File|Open Folder and open the repository. Open a new file (CTRL-N) and save it to the `src` folder. The file needs to have the following contents:\n"
   ]
  },
  {
   "cell_type": "code",
   "execution_count": 7,
   "metadata": {},
   "outputs": [
    {
     "name": "stderr",
     "output_type": "stream",
     "text": [
      "WARNING: replacing module NewPackage.\n"
     ]
    },
    {
     "data": {
      "text/plain": [
       "Main.NewPackage"
      ]
     },
     "execution_count": 7,
     "metadata": {},
     "output_type": "execute_result"
    }
   ],
   "source": [
    "# <src/NewPackage.jl \n",
    "module NewPackage\n",
    "    greet() = \"Hi there, welcome to NewPackage!\"\n",
    "end"
   ]
  },
  {
   "cell_type": "markdown",
   "metadata": {},
   "source": [
    "## Using your Package\n",
    "### REPL\n",
    "To use your new package from the REPL simply enter \n",
    "```julia\n",
    "using NewPackage\n",
    "NewPackage.greet()\n",
    "```\n",
    "\n",
    "### Juno\n",
    "The process is identical, simply enter the previous commands into the Julia Console. \n",
    "To open the console go to Julia|Open Console, enter (CTRL+J,CTRL+O), or `Julia Client: Open Console` from the Command Pallette (CTRL+SHIFT+P)"
   ]
  },
  {
   "cell_type": "markdown",
   "metadata": {},
   "source": [
    "# Using Different Files\n",
    "Typically the main project file does not contain source code; instead, it collects code from other files and takes care of exporting critical functions. We'll cover all of that here. First, we will cover the `include` function.\n",
    "\n",
    "## `Include` function\n",
    "The `include` function essentially copies the code from a source file into another. Let's say I have a file with the following contents:\n",
    "\n",
    "```julia\n",
    "# <test_include.jl>\n",
    "myfun(x) = x + 2 + e^x\n",
    "a = 4\n",
    "b = c + 2;\n",
    "```\n",
    "\n",
    "If we now use `include(\"test_include.jl\")` it will run the contents of the file:"
   ]
  },
  {
   "cell_type": "code",
   "execution_count": 1,
   "metadata": {},
   "outputs": [
    {
     "ename": "LoadError",
     "evalue": "UndefVarError: c not defined",
     "output_type": "error",
     "traceback": [
      "UndefVarError: c not defined",
      "",
      "Stacktrace:",
      " [1] top-level scope at none:0",
      " [2] include at ./boot.jl:317 [inlined]",
      " [3] include_relative(::Module, ::String) at ./loading.jl:1038",
      " [4] include(::Module, ::String) at ./sysimg.jl:29",
      " [5] include(::String) at ./client.jl:388",
      " [6] top-level scope at In[1]:1"
     ]
    }
   ],
   "source": [
    "include(\"test_include.jl\")"
   ]
  },
  {
   "cell_type": "markdown",
   "metadata": {},
   "source": [
    "Notice we get an error because the variable `c` is not defined. If we define `c` and call include again we get the expected behavior"
   ]
  },
  {
   "cell_type": "code",
   "execution_count": 10,
   "metadata": {},
   "outputs": [
    {
     "name": "stdout",
     "output_type": "stream",
     "text": [
      "a = 4\n",
      "b = 7\n",
      "myfun(2) = 8\n"
     ]
    }
   ],
   "source": [
    "c = 5\n",
    "include(\"test_include.jl\")\n",
    "@show a\n",
    "@show b\n",
    "@show myfun(2);"
   ]
  },
  {
   "cell_type": "markdown",
   "metadata": {},
   "source": [
    "In practice, we use this to \"include\" files into the main project file. Typically, these file do not contain anything except functions (and possibly sub-modules). For example, let's say we want to add a new function to our project, located in `project_funtions.jl`"
   ]
  },
  {
   "cell_type": "code",
   "execution_count": 13,
   "metadata": {},
   "outputs": [],
   "source": [
    "# <src/project_functions.jl>\n",
    "newfun(x::Int) = x + 3\n",
    "newfun(x::Float64) = x + π\n",
    "newfun(x::String) = x * \"π\";"
   ]
  },
  {
   "cell_type": "markdown",
   "metadata": {},
   "source": [
    "We now include this in our main project file"
   ]
  },
  {
   "cell_type": "code",
   "execution_count": 1,
   "metadata": {},
   "outputs": [
    {
     "data": {
      "text/plain": [
       "Main.NewProject"
      ]
     },
     "execution_count": 1,
     "metadata": {},
     "output_type": "execute_result"
    }
   ],
   "source": [
    "# <src/NewProject.jl>\n",
    "module NewProject\n",
    "    include(\"project_functions.jl\")\n",
    "    greet() = \"Hi there, welcome to NewPackage!\"\n",
    "end"
   ]
  },
  {
   "cell_type": "markdown",
   "metadata": {},
   "source": [
    "These functions are now part of our package. Test them out by opening up a **new** REPL (or restarting it inside Juno) and enter \n",
    "```julia\n",
    "using NewPackage\n",
    "```"
   ]
  },
  {
   "cell_type": "code",
   "execution_count": 3,
   "metadata": {},
   "outputs": [
    {
     "name": "stdout",
     "output_type": "stream",
     "text": [
      "NewProject.newfun(1) = 4\n",
      "NewProject.newfun(1.0) = 4.141592653589793\n",
      "NewProject.newfun(\"1\") = \"1π\"\n"
     ]
    }
   ],
   "source": [
    "# Note the use of multiple dispatch!\n",
    "@show NewProject.newfun(1)\n",
    "@show NewProject.newfun(1.0)\n",
    "@show NewProject.newfun(\"1\");"
   ]
  },
  {
   "cell_type": "markdown",
   "metadata": {},
   "source": [
    "## Exporting Functions\n",
    "Note that we have to, rather inconveniently, prepend \"MyPackage\" to each of our function calls. To avoid this, we can export them. Exporting a function will allow the function to be used by itself in whatever scope into which it is imported. Note that we cannot replicate this same behavior here in a Jupyter notebook since we aren't actually manipulating packages here, simply creating modules."
   ]
  },
  {
   "cell_type": "code",
   "execution_count": 4,
   "metadata": {},
   "outputs": [
    {
     "name": "stderr",
     "output_type": "stream",
     "text": [
      "WARNING: replacing module NewProject.\n"
     ]
    },
    {
     "data": {
      "text/plain": [
       "Main.NewProject"
      ]
     },
     "execution_count": 4,
     "metadata": {},
     "output_type": "execute_result"
    }
   ],
   "source": [
    "# <src/NewProject.jl>\n",
    "module NewProject\n",
    "    export\n",
    "        newfun,\n",
    "        greet\n",
    "    \n",
    "    include(\"project_functions.jl\")\n",
    "    greet() = \"Hi there, welcome to NewPackage!\"\n",
    "end"
   ]
  },
  {
   "cell_type": "markdown",
   "metadata": {},
   "source": [
    "# Workflow"
   ]
  },
  {
   "cell_type": "markdown",
   "metadata": {},
   "source": [
    "You may have already noticed that we requested you to reboot the REPL after each time you changed your package. This is necessary due to the way Julia handles packages within the global scope of the REPL. There are two ways of getting around this development headache:\n",
    "\n",
    "1. Revise.jl\n",
    "2. Juno IDE\n",
    "\n",
    "### Revise.jl\n",
    "Revise.jl is made specifically to get around this issue of having the reload the workspace when changes are made to a package/module. Basically you run it prior to loading in any other modules and it takes of most of the headache. \n",
    "\n",
    "### Juno IDE (recommended)\n",
    "Juno has some clever ways to get around this issue, and has some other nice features that make your life as a developer easier. Here we will go over basic workflow to minimize how many times you need to restart the REPL.\n",
    "\n",
    "1. Create a \"working\" script that acts basically like your REPL. You easily turn these scripts into test scripts later on.\n",
    "\n",
    "2. Change the \"working module\" of the script by clicking \"Main\" in the status bar and enter the name of your package, or use the shortcut (CTRL+J CTRL+M). The status bar should change to display the name of you module once you do this. Note that this is file-dependent. You should notice that Juno does this automatically for files that are included in your main file. You can even do this for the REPL to access the variables in the workspace of your module.\n",
    "![status bar](../img/Juno_status.png)\n",
    "![change_module](../img/ChangeModule.png)\n",
    "\n",
    "3. With the active module set to your package, any variables, functions, types, etc. that you create in your scipt will be created in the workspace of the your package, and has direct access to all variables and functions of your package (i.e. you don't need to use NewPackage.newfun, even if you haven't exported it). \n",
    "\n",
    "4. If you add or change a function in one of the files included in your project, you can reload it by hitting CTRL-RETURN (moves to next statement or function) or SHIFT-RETURN (doesn't move cursor). You can now re-run that function in your \"working\" script and will see the change.\n",
    "\n",
    "5. DISCLAIMER: This will save you a lot of time, but it often a good idea to restart your REPL if you begin to observe odd behavior. It's not uncommon to have a variable, function, or method that you don't realize is there that affects behavior. When in doubt: restart the REPL. NOTE: You will ALWAYS needs to restart the REPL after making changes to custom types. \n",
    "\n",
    "### Example\n",
    "Let's do this for our `newfun` function.\n",
    "* Restart the REPL and enter `using NewPackage`. Open a new file (CTRL-N) named `newfun_test.jl`:\n",
    "```julia\n",
    "# <src/newfun_test.jl\n",
    "newfun(\"1\")\n",
    "```\n",
    "\n",
    "* Change the active workspace of `newfun_test.jl` to `NewPackage` using CTRL-J CTRL-M.\n",
    "\n",
    "* With your cursor on the line testing `newfun`, hit CTRL-RETURN and you'll see the result pop up beside it:\n",
    "![newfun_test](../img/newfun_test.png)\n",
    "\n",
    "* Now open `src/project_functions.jl` in Juno and change the string operation to include a space. Afterwards hit CTRL-RETURN to update the function. You should the name of the function pop up beside it.\n",
    "![newfun_change](../img/newfun_change.png)\n",
    "\n",
    "* Return to `newfun_test.jl` and rerun the test using CTRL-RETURN. You should see the change reflected, without having to restart the REPL.\n",
    "![newfun_updated](../img/newfun_updated.png)"
   ]
  },
  {
   "cell_type": "markdown",
   "metadata": {},
   "source": [
    "# Testing"
   ]
  },
  {
   "cell_type": "markdown",
   "metadata": {},
   "source": [
    "You should include unit tests as you develop your package. Include all tests in `test/runtests.jl`.\n",
    "See [documentation](https://docs.julialang.org/en/v1/stdlib/Test/index.html) for details on unit testing. We give a brief example below. \n",
    "\n",
    "\n",
    "### Running Tests\n",
    "You can run all tests for your package from the Package Manager:\n",
    "```\n",
    "(v1.0) pkg> test NewPackage\n",
    "```\n",
    "Or by calling the function directly from the package:\n",
    "```julia\n",
    "include(\"test/runtests.jl\")\n",
    "```\n",
    "Or by opening the file in Juno and hitting CTRL-SHIFT-RETURN\n",
    "\n",
    "You should always run these tests in the Main workspace, to replicate the actual testing environment. However, for debugging it is often useful to have the test suites in separate files that are included in `test/runtests.jl` via `include`. You change the workspace of these files to debug and modify your code while you work on it. \n",
    "\n",
    "### Travis CI\n",
    "[Travis CI](https://travis-ci.org/) is a tool for automatically testing your package. A badge indicating the status of your build is usually displayed in your README.md on GitHub, and lends credibility to your project. Setting up a project with Travis CI is straight-forward, got to https://travis-ci.org/ and sign up with your GitHub account. Simply follow the prompts to set up Travis CI with your repository. You'll then need to create a `.travis.yml` file in your root directory. Here is an example that also sends results to some code coverage utilities:\n",
    "```yml\n",
    "# <.travis.yml>\n",
    "## Documentation: http://docs.travis-ci.com/user/languages/julia/\n",
    "language: julia\n",
    "os:\n",
    "  - linux\n",
    "  - osx\n",
    "julia:\n",
    "  - 0.7\n",
    "  # - nightly\n",
    "notifications:\n",
    "  email: false\n",
    "git:\n",
    "  depth: 99999999\n",
    "\n",
    "## uncomment the following lines to allow failures on nightly julia\n",
    "## (tests will run but not make your overall status red)\n",
    "#matrix:\n",
    "#  allow_failures:\n",
    "#  - julia: nightly\n",
    "\n",
    "## uncomment and modify the following lines to manually install system packages\n",
    "addons:\n",
    " apt: # apt-get for linux\n",
    "   packages:\n",
    "   - gfortran\n",
    "#before_script: # homebrew for mac\n",
    "#  - if [ $TRAVIS_OS_NAME = osx ]; then brew install gcc; fi\n",
    "\n",
    "## uncomment the following lines to override the default test script\n",
    "#script:\n",
    "#  - julia -e 'Pkg.clone(pwd()); Pkg.build(\"TrajectoryOptimization\"); Pkg.test(\"TrajectoryOptimization\"; coverage=true)'\n",
    "after_success:\n",
    "  # push coverage results to Coveralls\n",
    "  - julia -e 'cd(Pkg.dir(\"TrajectoryOptimization\")); Pkg.add(\"Coverage\"); using Coverage; Coveralls.submit(Coveralls.process_folder())'\n",
    "  # push coverage results to Codecov\n",
    "  - julia -e 'cd(Pkg.dir(\"TrajectoryOptimization\")); Pkg.add(\"Coverage\"); using Coverage; Codecov.submit(Codecov.process_folder())'\n",
    "```\n",
    "\n",
    "### Example\n",
    "* Create a new file `test\\runtests.jl`\n",
    "\n",
    "```julia\n",
    "# <test/runtests.jl>\n",
    "using Test\n",
    "using JuliaIntro\n",
    "@testset \"newfun\" begin\n",
    "    @test newfun(1) == 4\n",
    "    @test newfun(2.0) == 2+π\n",
    "    @test newfun(\"a\") == \"a π\"\n",
    "end\n",
    "```\n",
    "\n",
    "* The @testset macro defines a set suite that is useful for grouping tests together.\n",
    "* The @test macro tests for a boolean. See documentation for more options"
   ]
  }
 ],
 "metadata": {
  "kernelspec": {
   "display_name": "Julia 1.0.0",
   "language": "julia",
   "name": "julia-1.0"
  },
  "language_info": {
   "file_extension": ".jl",
   "mimetype": "application/julia",
   "name": "julia",
   "version": "1.0.0"
  }
 },
 "nbformat": 4,
 "nbformat_minor": 2
}
