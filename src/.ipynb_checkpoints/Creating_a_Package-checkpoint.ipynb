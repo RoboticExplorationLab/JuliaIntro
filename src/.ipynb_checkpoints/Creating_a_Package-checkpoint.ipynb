{
 "cells": [
  {
   "cell_type": "markdown",
   "metadata": {},
   "source": [
    "# Introduction\n",
    "This tutorial covers how to get started with your own Julia package. It assumes some familiarity with the language and that you have a working version of Julia installed on your computer. We also highly recommend installing the [Juno IDE](http://junolab.org/).\n",
    "\n",
    "This tutorial is built for Julia v1.0.0+."
   ]
  },
  {
   "cell_type": "markdown",
   "metadata": {},
   "source": [
    "# Getting Started\n",
    "\n",
    "## Getting Packages\n",
    "Julia v1.0 has a brand-new package manager with a lot of \n",
    "functionality. We'll cover some of the basics here.\n",
    "\n",
    "### Using the Package Manager\n",
    "To use the package manager from the REPL (recommended) press the `]` key.\n",
    "\n",
    "### File Locations\n",
    "If you installed Julia with default settings, it should place all files beneath your home directory:\n",
    "\n",
    "`/home/username/.julia`\n",
    "\n",
    "A couple of important sub-directories:\n",
    "* `dev` - contains git repositories of the packages being developed. It is okay to edit files in this directory\n",
    "* `packages` - contains git repositories of the packages downloaded via the package manager. You should not edit these files.\n",
    "* `compiled` - contains compiled files (`*.ji`) for pre-compiled packages.\n",
    "\n",
    "\n",
    "### Adding a registered package\n",
    "To add a registered package use the `add` command within the Package Manager. This will install the package on your computer and add it to your active project. For example, to add the ForwardDiff package simple enter\n",
    "\n",
    "`(v1.0) pkg> add ForwardDiff`\n",
    "\n",
    "\n",
    "### Using a Package\n",
    "Once installed, a package is brought into the the workspace using the `using` command:\n"
   ]
  },
  {
   "cell_type": "code",
   "execution_count": 10,
   "metadata": {},
   "outputs": [],
   "source": [
    "using ForwardDiff"
   ]
  },
  {
   "cell_type": "markdown",
   "metadata": {},
   "source": [
    "## Creating your Own Package\n",
    "1. Go to GitHub.com and create a new repository. By convention it should end with `*.jl` (i.e. `NewPackage.jl`).\n",
    "![Add_GitHub_Repo](img/AddRepo.png)\n",
    "\n",
    "2. Add new repository to developed Julia packages using the Package Manager\n",
    "\n",
    "```\n",
    "(v1.0) pkg> dev https://github.com/username/NewPackage.jl.git\n",
    "```\n",
    "\n",
    "3. Navigate to repository. \n",
    "\n",
    "```shell\n",
    "cd /home/user/.julia/dev/NewPackage\n",
    "```\n",
    "\n",
    "4. Create `src` sub-directory. This holds the core project code.\n",
    "\n",
    "```shell\n",
    "mkdir src\n",
    "```\n",
    "\n",
    "5. Create the main project file within your source folder using your favorite editor. This needs to have the same name as the Package, e.g. `src\\NewPackage.jl`. To do this from Juno, select File|Open Folder and open the repository. Open a new file (CTRL-N) and save it to the `src` folder. The file needs to have the following contents:\n"
   ]
  },
  {
   "cell_type": "code",
   "execution_count": 7,
   "metadata": {},
   "outputs": [
    {
     "name": "stderr",
     "output_type": "stream",
     "text": [
      "WARNING: replacing module NewPackage.\n"
     ]
    },
    {
     "data": {
      "text/plain": [
       "Main.NewPackage"
      ]
     },
     "execution_count": 7,
     "metadata": {},
     "output_type": "execute_result"
    }
   ],
   "source": [
    "# <src/NewPackage.jl \n",
    "module NewPackage\n",
    "    greet() = \"Hi there, welcome to NewPackage!\"\n",
    "end"
   ]
  },
  {
   "cell_type": "markdown",
   "metadata": {},
   "source": [
    "## Using your Package\n",
    "### REPL\n",
    "To use your new package from the REPL simply enter \n",
    "```julia\n",
    "using NewPackage\n",
    "NewPackage.greet()\n",
    "```\n",
    "\n",
    "### Juno\n",
    "The process is identical, simply enter the previous commands into the Julia Console. \n",
    "To open the console go to Julia|Open Console, enter (CTRL+J,CTRL+O), or `Julia Client: Open Console` from the Command Pallette (CTRL+SHIFT+P)"
   ]
  },
  {
   "cell_type": "markdown",
   "metadata": {},
   "source": [
    "# Using Different Files\n",
    "Typically the main project file does not contain source code; instead, it collects code from other files and takes care of exporting critical functions. We'll cover all of that here. First, we will cover the `include` function.\n",
    "\n",
    "## `Include` function\n",
    "The `include` function essentially copies the code from a source file into another. Let's say I have a file with the following contents:\n",
    "\n",
    "```julia\n",
    "# <test_include.jl>\n",
    "myfun(x) = x + 2 + e^x\n",
    "a = 4\n",
    "b = c + 2;\n",
    "```\n",
    "\n",
    "If we now use `include(\"test_include.jl\")` it will run the contents of the file:"
   ]
  },
  {
   "cell_type": "code",
   "execution_count": 1,
   "metadata": {},
   "outputs": [
    {
     "ename": "LoadError",
     "evalue": "UndefVarError: c not defined",
     "output_type": "error",
     "traceback": [
      "UndefVarError: c not defined",
      "",
      "Stacktrace:",
      " [1] top-level scope at none:0",
      " [2] include at ./boot.jl:317 [inlined]",
      " [3] include_relative(::Module, ::String) at ./loading.jl:1038",
      " [4] include(::Module, ::String) at ./sysimg.jl:29",
      " [5] include(::String) at ./client.jl:388",
      " [6] top-level scope at In[1]:1"
     ]
    }
   ],
   "source": [
    "include(\"test_include.jl\")"
   ]
  },
  {
   "cell_type": "markdown",
   "metadata": {},
   "source": [
    "Notice we get an error because the variable `c` is not defined. If we define `c` and call include again we get the expected behavior"
   ]
  },
  {
   "cell_type": "code",
   "execution_count": 10,
   "metadata": {},
   "outputs": [
    {
     "name": "stdout",
     "output_type": "stream",
     "text": [
      "a = 4\n",
      "b = 7\n",
      "myfun(2) = 8\n"
     ]
    }
   ],
   "source": [
    "c = 5\n",
    "include(\"test_include.jl\")\n",
    "@show a\n",
    "@show b\n",
    "@show myfun(2);"
   ]
  },
  {
   "cell_type": "markdown",
   "metadata": {},
   "source": [
    "In practice, we use this to \"include\" files into the main project file. Typically, these file do not contain anything except functions (and possibly sub-modules). For example, let's say we want to add a new function to our project, located in `project_funtions.jl`"
   ]
  },
  {
   "cell_type": "code",
   "execution_count": 13,
   "metadata": {},
   "outputs": [],
   "source": [
    "# <src/project_functions.jl>\n",
    "newfun(x::Int) = x + 3\n",
    "newfun(x::Float64) = x + π\n",
    "newfun(x::String) = x * \"π\";"
   ]
  },
  {
   "cell_type": "markdown",
   "metadata": {},
   "source": [
    "We now include this in our main project file"
   ]
  },
  {
   "cell_type": "code",
   "execution_count": 1,
   "metadata": {},
   "outputs": [
    {
     "data": {
      "text/plain": [
       "Main.NewProject"
      ]
     },
     "execution_count": 1,
     "metadata": {},
     "output_type": "execute_result"
    }
   ],
   "source": [
    "# <src/NewProject.jl>\n",
    "module NewProject\n",
    "    include(\"project_functions.jl\")\n",
    "end"
   ]
  },
  {
   "cell_type": "code",
   "execution_count": null,
   "metadata": {},
   "outputs": [],
   "source": [
    "These functions are now part of our package. Test them out by opening up the REPL (or restarting it inside)"
   ]
  }
 ],
 "metadata": {
  "kernelspec": {
   "display_name": "Julia 1.0.0",
   "language": "julia",
   "name": "julia-1.0"
  },
  "language_info": {
   "file_extension": ".jl",
   "mimetype": "application/julia",
   "name": "julia",
   "version": "1.0.0"
  }
 },
 "nbformat": 4,
 "nbformat_minor": 2
}
