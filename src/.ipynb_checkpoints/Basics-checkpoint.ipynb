{
 "cells": [
  {
   "cell_type": "markdown",
   "metadata": {},
   "source": [
    "# Unicode\n",
    "Unicode characters provide a nice way to cleanly present your code and match standard math notation.\n",
    "\n",
    "A list of available characters can be found here: (https://docs.julialang.org/en/v1/manual/unicode-input/index.html)\n",
    "\n",
    "All unicode characters begin with a backslash '\\' followed by a string of characters. The unicode with appear after clicking the tab key. \n",
    "\n",
    "For example: \\alpha "
   ]
  },
  {
   "cell_type": "code",
   "execution_count": 1,
   "metadata": {},
   "outputs": [
    {
     "data": {
      "text/plain": [
       "1.0"
      ]
     },
     "execution_count": 1,
     "metadata": {},
     "output_type": "execute_result"
    }
   ],
   "source": [
    "α = 1.0"
   ]
  },
  {
   "cell_type": "markdown",
   "metadata": {},
   "source": [
    "Additionally, it is possible to include a select set of emojis since they are also unicode. \n",
    "\n",
    "For example: \\:rocket:"
   ]
  },
  {
   "cell_type": "code",
   "execution_count": 2,
   "metadata": {},
   "outputs": [
    {
     "data": {
      "text/plain": [
       "1.0"
      ]
     },
     "execution_count": 2,
     "metadata": {},
     "output_type": "execute_result"
    }
   ],
   "source": [
    "🚀 = 1.0"
   ]
  },
  {
   "cell_type": "markdown",
   "metadata": {},
   "source": [
    "# ForwardDiff.jl\n",
    "\n",
    "Automatic differentiation enables gradients, Jacobian, and Hessians can be computed exactly (to machine precision) rapidly instead of relying on slow approximations from finite differencing. "
   ]
  },
  {
   "cell_type": "code",
   "execution_count": 3,
   "metadata": {},
   "outputs": [
    {
     "data": {
      "text/plain": [
       "f (generic function with 1 method)"
      ]
     },
     "execution_count": 3,
     "metadata": {},
     "output_type": "execute_result"
    }
   ],
   "source": [
    "using ForwardDiff\n",
    "\n",
    "f(x) = x[1]^2 + x[2]"
   ]
  },
  {
   "cell_type": "code",
   "execution_count": 4,
   "metadata": {},
   "outputs": [
    {
     "data": {
      "text/plain": [
       "2-element Array{Float64,1}:\n",
       " 2.0\n",
       " 1.0"
      ]
     },
     "execution_count": 4,
     "metadata": {},
     "output_type": "execute_result"
    }
   ],
   "source": [
    "ForwardDiff.gradient(f,ones(2))"
   ]
  },
  {
   "cell_type": "markdown",
   "metadata": {},
   "source": [
    "## Control\n",
    "We are interested in controlling systems, which are generally defined by differential equations of the form: \n",
    "\n",
    "$\\dot{x} = f(x,u,t)$ \n",
    "\n",
    "For example, Dubins car dynamics are show below:"
   ]
  },
  {
   "cell_type": "code",
   "execution_count": 5,
   "metadata": {},
   "outputs": [
    {
     "data": {
      "text/plain": [
       "dubins_dynamics (generic function with 1 method)"
      ]
     },
     "execution_count": 5,
     "metadata": {},
     "output_type": "execute_result"
    }
   ],
   "source": [
    "# inplace version\n",
    "function dubins_dynamics!(ẋ,x,u,t)\n",
    "    ẋ[1] = u[1]*cos(x[3])\n",
    "    ẋ[2] = u[1]*sin(x[3])\n",
    "    ẋ[3] = u[2]\n",
    "    ẋ\n",
    "end\n",
    "\n",
    "function dubins_dynamics(x,u,t)\n",
    "    return [u[1]*cos(x[3]); \n",
    "            u[1]*sin(x[3]); \n",
    "            u[2]]\n",
    "end\n"
   ]
  },
  {
   "cell_type": "markdown",
   "metadata": {},
   "source": [
    "ForwardDiff requires functions of a single variable. To get around this, we can build an augmented vector of our variables $z = [x \\ u \\ t]^T$ and wrap our dynamics functions."
   ]
  },
  {
   "cell_type": "code",
   "execution_count": 10,
   "metadata": {},
   "outputs": [
    {
     "data": {
      "text/plain": [
       "dubins_dynamics (generic function with 2 methods)"
      ]
     },
     "execution_count": 10,
     "metadata": {},
     "output_type": "execute_result"
    }
   ],
   "source": [
    "n = 3 # number of states\n",
    "m = 2 # number of controls\n",
    "\n",
    "function dubins_dynamics!(ż,z)\n",
    "    x = z[1:n]\n",
    "    u = z[n+1:n+m]\n",
    "    t = z[n+m+1]\n",
    "    dubins_dynamics!(ż,x,u,t)\n",
    "end\n",
    "\n",
    "function dubins_dynamics(z)\n",
    "    x = z[1:n]\n",
    "    u = z[n+1:n+m]\n",
    "    t = z[n+m+1]\n",
    "    dubins_dynamics(x,u,t)\n",
    "end"
   ]
  },
  {
   "cell_type": "markdown",
   "metadata": {},
   "source": [
    "Note: there is virtually no over head in creating functions wrappers like this. Additionally, these functions have access to the state and control dimensions defined above even though they are not inputs to the functions"
   ]
  },
  {
   "cell_type": "code",
   "execution_count": 19,
   "metadata": {},
   "outputs": [],
   "source": [
    "# Define states, controls, time\n",
    "x = [1.; 2.; 3.]\n",
    "u = [4.; 5.]\n",
    "t = [1.]\n",
    "z = zeros(n);"
   ]
  },
  {
   "cell_type": "code",
   "execution_count": 17,
   "metadata": {},
   "outputs": [
    {
     "data": {
      "text/plain": [
       "3×6 Array{Float64,2}:\n",
       " -0.0  -0.0  -0.56448  -0.989992  -0.0  -0.0\n",
       "  0.0   0.0  -3.95997   0.14112    0.0   0.0\n",
       "  0.0   0.0   0.0       0.0        1.0   0.0"
      ]
     },
     "execution_count": 17,
     "metadata": {},
     "output_type": "execute_result"
    }
   ],
   "source": [
    "# Jacobian of inplace function\n",
    "ForwardDiff.jacobian(dubins_dynamics!,z,[x;u;t])"
   ]
  },
  {
   "cell_type": "code",
   "execution_count": 20,
   "metadata": {},
   "outputs": [
    {
     "data": {
      "text/plain": [
       "3×6 Array{Float64,2}:\n",
       " -0.0  -0.0  -0.56448  -0.989992  -0.0  -0.0\n",
       "  0.0   0.0  -3.95997   0.14112    0.0   0.0\n",
       "  0.0   0.0   0.0       0.0        1.0   0.0"
      ]
     },
     "execution_count": 20,
     "metadata": {},
     "output_type": "execute_result"
    }
   ],
   "source": [
    "# Jacobian\n",
    "ForwardDiff.jacobian(dubins_dynamics,[x;u;t])"
   ]
  },
  {
   "cell_type": "markdown",
   "metadata": {},
   "source": [
    "It's often more convenient to compute Jacobians using $x, u, t$ instead of an augmented vector. Once again, we can create a wrapper that has no overhead to create a function $J(x,u,t)$ instead of $J(z)$."
   ]
  },
  {
   "cell_type": "code",
   "execution_count": 25,
   "metadata": {},
   "outputs": [
    {
     "data": {
      "text/plain": [
       "dubins_jacobians (generic function with 1 method)"
      ]
     },
     "execution_count": 25,
     "metadata": {},
     "output_type": "execute_result"
    }
   ],
   "source": [
    "function dubins_jacobians(x,u,t)\n",
    "    J = ForwardDiff.jacobian(dubins_dynamics,[x;u;t])\n",
    "    return J[:,1:n], J[:,n+1:n+m] # return the state and control (A,B) Jacobians\n",
    "end"
   ]
  },
  {
   "cell_type": "code",
   "execution_count": 28,
   "metadata": {},
   "outputs": [],
   "source": [
    "A, B = dubins_jacobians(x,u,t);"
   ]
  },
  {
   "cell_type": "code",
   "execution_count": 29,
   "metadata": {},
   "outputs": [
    {
     "name": "stdout",
     "output_type": "stream",
     "text": [
      "A = [-0.0 -0.0 -0.56448; 0.0 0.0 -3.95997; 0.0 0.0 0.0]\n"
     ]
    },
    {
     "data": {
      "text/plain": [
       "3×3 Array{Float64,2}:\n",
       " -0.0  -0.0  -0.56448\n",
       "  0.0   0.0  -3.95997\n",
       "  0.0   0.0   0.0    "
      ]
     },
     "execution_count": 29,
     "metadata": {},
     "output_type": "execute_result"
    }
   ],
   "source": [
    "@show A"
   ]
  },
  {
   "cell_type": "code",
   "execution_count": 30,
   "metadata": {},
   "outputs": [
    {
     "name": "stdout",
     "output_type": "stream",
     "text": [
      "B = [-0.989992 -0.0; 0.14112 0.0; 0.0 1.0]\n"
     ]
    },
    {
     "data": {
      "text/plain": [
       "3×2 Array{Float64,2}:\n",
       " -0.989992  -0.0\n",
       "  0.14112    0.0\n",
       "  0.0        1.0"
      ]
     },
     "execution_count": 30,
     "metadata": {},
     "output_type": "execute_result"
    }
   ],
   "source": [
    "@show B"
   ]
  },
  {
   "cell_type": "markdown",
   "metadata": {},
   "source": [
    "There are a number of options in ForwardDiff for inplace operations that will decrease memory allocation and reduce computation time. The best thing you can do is preallocate and make every operation inplace as shown below:"
   ]
  },
  {
   "cell_type": "code",
   "execution_count": null,
   "metadata": {
    "collapsed": true
   },
   "outputs": [],
   "source": []
  },
  {
   "cell_type": "markdown",
   "metadata": {},
   "source": [
    "# Plots"
   ]
  },
  {
   "cell_type": "code",
   "execution_count": null,
   "metadata": {
    "collapsed": true
   },
   "outputs": [],
   "source": []
  },
  {
   "cell_type": "markdown",
   "metadata": {},
   "source": [
    "# Arrays"
   ]
  },
  {
   "cell_type": "code",
   "execution_count": null,
   "metadata": {
    "collapsed": true
   },
   "outputs": [],
   "source": []
  }
 ],
 "metadata": {
  "kernelspec": {
   "display_name": "Julia 1.0.0",
   "language": "julia",
   "name": "julia-1.0"
  },
  "language_info": {
   "file_extension": ".jl",
   "mimetype": "application/julia",
   "name": "julia",
   "version": "1.0.0"
  }
 },
 "nbformat": 4,
 "nbformat_minor": 2
}
